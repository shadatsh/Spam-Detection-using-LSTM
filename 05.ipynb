{
  "nbformat": 4,
  "nbformat_minor": 0,
  "metadata": {
    "colab": {
      "provenance": [],
      "gpuType": "T4",
      "authorship_tag": "ABX9TyM30bUMI/6fDnh7Otn/biBX",
      "include_colab_link": true
    },
    "kernelspec": {
      "name": "python3",
      "display_name": "Python 3"
    },
    "language_info": {
      "name": "python"
    },
    "accelerator": "GPU"
  },
  "cells": [
    {
      "cell_type": "markdown",
      "metadata": {
        "id": "view-in-github",
        "colab_type": "text"
      },
      "source": [
        "<a href=\"https://colab.research.google.com/github/shadatsh/Spam-Detection-using-LSTM/blob/main/05.ipynb\" target=\"_parent\"><img src=\"https://colab.research.google.com/assets/colab-badge.svg\" alt=\"Open In Colab\"/></a>"
      ]
    },
    {
      "cell_type": "markdown",
      "source": [
        "### Group No: 05\n",
        "Subaharan. A    : EG/2019/3753\n",
        "Shadatsharan. K :EG/2019/3744"
      ],
      "metadata": {
        "id": "r6-yGBtJNLNP"
      }
    },
    {
      "cell_type": "markdown",
      "source": [
        "\n",
        "## Project Description: Spam Detection Using LSTM\n",
        "#### Project Overview:\n",
        "\n",
        "This project aims to develop a deep learning model for predict the message as spam or not. The model is built using Long Short-Term Memory (LSTM) networks, which are well-suited for sequence prediction tasks. The project includes the following steps:\n",
        "\n",
        "1- Data Collection: The dataset used is 'SPAM text message 20170820 - Data.csv' from Kaggle, containing labeled SMS messages for spam detection.\n",
        "\n",
        "2- Data Preprocessing: Text cleaning involves removing HTML tags, replacing URLs with <URL>, and converting text to lowercase. The text data is tokenized, converted and padded to ensure uniform input lengths.\n",
        "\n",
        "3- Model Building: An LSTM model is constructed with an embedding layer, 2 LSTM layers,  a dropout layer, and a dense output layer.\n",
        "\n",
        "4- Model Training: The model is trained using the prepared sequences, with early stopping implemented to prevent overfitting. Early stopping monitors the validation loss and stops training when the loss stops improving.\n",
        "\n",
        "5- Model Evaluation: The model is evaluated using a set of example sentences to test its ability to detect the spam messages accurately."
      ],
      "metadata": {
        "id": "cGtM1Y5uMZbq"
      }
    },
    {
      "cell_type": "markdown",
      "source": [
        "## Code"
      ],
      "metadata": {
        "id": "FgnP2ewXMZUM"
      }
    },
    {
      "cell_type": "code",
      "source": [
        "from google.colab import drive\n",
        "drive.mount('/content/drive')"
      ],
      "metadata": {
        "colab": {
          "base_uri": "https://localhost:8080/",
          "height": 0
        },
        "id": "F4ILZ-n-I7T_",
        "outputId": "2ef73b69-2097-4eab-aa2c-ee07b6134b70"
      },
      "execution_count": 1,
      "outputs": [
        {
          "output_type": "stream",
          "name": "stdout",
          "text": [
            "Mounted at /content/drive\n"
          ]
        }
      ]
    },
    {
      "cell_type": "markdown",
      "source": [
        "### Instaliing Libraries"
      ],
      "metadata": {
        "id": "QVwgicxa-kIz"
      }
    },
    {
      "cell_type": "code",
      "execution_count": 2,
      "metadata": {
        "id": "WH1xgl5HMCi2",
        "colab": {
          "base_uri": "https://localhost:8080/",
          "height": 0
        },
        "outputId": "06d0af60-c77b-4666-966a-81d58c607a61"
      },
      "outputs": [
        {
          "output_type": "stream",
          "name": "stderr",
          "text": [
            "[nltk_data] Downloading package stopwords to /root/nltk_data...\n",
            "[nltk_data]   Unzipping corpora/stopwords.zip.\n",
            "[nltk_data] Downloading package punkt to /root/nltk_data...\n",
            "[nltk_data]   Unzipping tokenizers/punkt.zip.\n"
          ]
        },
        {
          "output_type": "execute_result",
          "data": {
            "text/plain": [
              "True"
            ]
          },
          "metadata": {},
          "execution_count": 2
        }
      ],
      "source": [
        "import pandas as pd\n",
        "import numpy as np\n",
        "from tqdm import tqdm\n",
        "from tensorflow.keras.preprocessing.text import Tokenizer\n",
        "tqdm.pandas(desc=\"progress-bar\")\n",
        "from sklearn import utils\n",
        "from sklearn.model_selection import train_test_split\n",
        "from keras.preprocessing.sequence import pad_sequences\n",
        "import re\n",
        "import seaborn as sns\n",
        "import matplotlib.pyplot as plt\n",
        "import nltk\n",
        "from nltk.corpus import stopwords\n",
        "\n",
        "nltk.download('stopwords')\n",
        "nltk.download('punkt')"
      ]
    },
    {
      "cell_type": "markdown",
      "source": [
        "### Read Dataset"
      ],
      "metadata": {
        "id": "7NmMYePENliK"
      }
    },
    {
      "cell_type": "code",
      "source": [
        "df = pd.read_csv('/content/drive/MyDrive/Intelligent systems Project/SPAM text message 20170820 - Data.csv',delimiter=',',encoding='latin-1')\n",
        "df = df[['Category','Message']]\n",
        "df = df[pd.notnull(df['Message'])]\n",
        "df.head()"
      ],
      "metadata": {
        "colab": {
          "base_uri": "https://localhost:8080/",
          "height": 206
        },
        "id": "8eRoB52WMiA6",
        "outputId": "b7ec8d11-4507-45b9-8676-4ac8347a76cb"
      },
      "execution_count": 3,
      "outputs": [
        {
          "output_type": "execute_result",
          "data": {
            "text/plain": [
              "  Category                                            Message\n",
              "0      ham  Go until jurong point, crazy.. Available only ...\n",
              "1      ham                      Ok lar... Joking wif u oni...\n",
              "2     spam  Free entry in 2 a wkly comp to win FA Cup fina...\n",
              "3      ham  U dun say so early hor... U c already then say...\n",
              "4      ham  Nah I don't think he goes to usf, he lives aro..."
            ],
            "text/html": [
              "\n",
              "  <div id=\"df-80c90ec5-ba79-4f8c-a9f2-a9c28bde9642\" class=\"colab-df-container\">\n",
              "    <div>\n",
              "<style scoped>\n",
              "    .dataframe tbody tr th:only-of-type {\n",
              "        vertical-align: middle;\n",
              "    }\n",
              "\n",
              "    .dataframe tbody tr th {\n",
              "        vertical-align: top;\n",
              "    }\n",
              "\n",
              "    .dataframe thead th {\n",
              "        text-align: right;\n",
              "    }\n",
              "</style>\n",
              "<table border=\"1\" class=\"dataframe\">\n",
              "  <thead>\n",
              "    <tr style=\"text-align: right;\">\n",
              "      <th></th>\n",
              "      <th>Category</th>\n",
              "      <th>Message</th>\n",
              "    </tr>\n",
              "  </thead>\n",
              "  <tbody>\n",
              "    <tr>\n",
              "      <th>0</th>\n",
              "      <td>ham</td>\n",
              "      <td>Go until jurong point, crazy.. Available only ...</td>\n",
              "    </tr>\n",
              "    <tr>\n",
              "      <th>1</th>\n",
              "      <td>ham</td>\n",
              "      <td>Ok lar... Joking wif u oni...</td>\n",
              "    </tr>\n",
              "    <tr>\n",
              "      <th>2</th>\n",
              "      <td>spam</td>\n",
              "      <td>Free entry in 2 a wkly comp to win FA Cup fina...</td>\n",
              "    </tr>\n",
              "    <tr>\n",
              "      <th>3</th>\n",
              "      <td>ham</td>\n",
              "      <td>U dun say so early hor... U c already then say...</td>\n",
              "    </tr>\n",
              "    <tr>\n",
              "      <th>4</th>\n",
              "      <td>ham</td>\n",
              "      <td>Nah I don't think he goes to usf, he lives aro...</td>\n",
              "    </tr>\n",
              "  </tbody>\n",
              "</table>\n",
              "</div>\n",
              "    <div class=\"colab-df-buttons\">\n",
              "\n",
              "  <div class=\"colab-df-container\">\n",
              "    <button class=\"colab-df-convert\" onclick=\"convertToInteractive('df-80c90ec5-ba79-4f8c-a9f2-a9c28bde9642')\"\n",
              "            title=\"Convert this dataframe to an interactive table.\"\n",
              "            style=\"display:none;\">\n",
              "\n",
              "  <svg xmlns=\"http://www.w3.org/2000/svg\" height=\"24px\" viewBox=\"0 -960 960 960\">\n",
              "    <path d=\"M120-120v-720h720v720H120Zm60-500h600v-160H180v160Zm220 220h160v-160H400v160Zm0 220h160v-160H400v160ZM180-400h160v-160H180v160Zm440 0h160v-160H620v160ZM180-180h160v-160H180v160Zm440 0h160v-160H620v160Z\"/>\n",
              "  </svg>\n",
              "    </button>\n",
              "\n",
              "  <style>\n",
              "    .colab-df-container {\n",
              "      display:flex;\n",
              "      gap: 12px;\n",
              "    }\n",
              "\n",
              "    .colab-df-convert {\n",
              "      background-color: #E8F0FE;\n",
              "      border: none;\n",
              "      border-radius: 50%;\n",
              "      cursor: pointer;\n",
              "      display: none;\n",
              "      fill: #1967D2;\n",
              "      height: 32px;\n",
              "      padding: 0 0 0 0;\n",
              "      width: 32px;\n",
              "    }\n",
              "\n",
              "    .colab-df-convert:hover {\n",
              "      background-color: #E2EBFA;\n",
              "      box-shadow: 0px 1px 2px rgba(60, 64, 67, 0.3), 0px 1px 3px 1px rgba(60, 64, 67, 0.15);\n",
              "      fill: #174EA6;\n",
              "    }\n",
              "\n",
              "    .colab-df-buttons div {\n",
              "      margin-bottom: 4px;\n",
              "    }\n",
              "\n",
              "    [theme=dark] .colab-df-convert {\n",
              "      background-color: #3B4455;\n",
              "      fill: #D2E3FC;\n",
              "    }\n",
              "\n",
              "    [theme=dark] .colab-df-convert:hover {\n",
              "      background-color: #434B5C;\n",
              "      box-shadow: 0px 1px 3px 1px rgba(0, 0, 0, 0.15);\n",
              "      filter: drop-shadow(0px 1px 2px rgba(0, 0, 0, 0.3));\n",
              "      fill: #FFFFFF;\n",
              "    }\n",
              "  </style>\n",
              "\n",
              "    <script>\n",
              "      const buttonEl =\n",
              "        document.querySelector('#df-80c90ec5-ba79-4f8c-a9f2-a9c28bde9642 button.colab-df-convert');\n",
              "      buttonEl.style.display =\n",
              "        google.colab.kernel.accessAllowed ? 'block' : 'none';\n",
              "\n",
              "      async function convertToInteractive(key) {\n",
              "        const element = document.querySelector('#df-80c90ec5-ba79-4f8c-a9f2-a9c28bde9642');\n",
              "        const dataTable =\n",
              "          await google.colab.kernel.invokeFunction('convertToInteractive',\n",
              "                                                    [key], {});\n",
              "        if (!dataTable) return;\n",
              "\n",
              "        const docLinkHtml = 'Like what you see? Visit the ' +\n",
              "          '<a target=\"_blank\" href=https://colab.research.google.com/notebooks/data_table.ipynb>data table notebook</a>'\n",
              "          + ' to learn more about interactive tables.';\n",
              "        element.innerHTML = '';\n",
              "        dataTable['output_type'] = 'display_data';\n",
              "        await google.colab.output.renderOutput(dataTable, element);\n",
              "        const docLink = document.createElement('div');\n",
              "        docLink.innerHTML = docLinkHtml;\n",
              "        element.appendChild(docLink);\n",
              "      }\n",
              "    </script>\n",
              "  </div>\n",
              "\n",
              "\n",
              "<div id=\"df-986248f9-e445-4623-8b1b-052755a60371\">\n",
              "  <button class=\"colab-df-quickchart\" onclick=\"quickchart('df-986248f9-e445-4623-8b1b-052755a60371')\"\n",
              "            title=\"Suggest charts\"\n",
              "            style=\"display:none;\">\n",
              "\n",
              "<svg xmlns=\"http://www.w3.org/2000/svg\" height=\"24px\"viewBox=\"0 0 24 24\"\n",
              "     width=\"24px\">\n",
              "    <g>\n",
              "        <path d=\"M19 3H5c-1.1 0-2 .9-2 2v14c0 1.1.9 2 2 2h14c1.1 0 2-.9 2-2V5c0-1.1-.9-2-2-2zM9 17H7v-7h2v7zm4 0h-2V7h2v10zm4 0h-2v-4h2v4z\"/>\n",
              "    </g>\n",
              "</svg>\n",
              "  </button>\n",
              "\n",
              "<style>\n",
              "  .colab-df-quickchart {\n",
              "      --bg-color: #E8F0FE;\n",
              "      --fill-color: #1967D2;\n",
              "      --hover-bg-color: #E2EBFA;\n",
              "      --hover-fill-color: #174EA6;\n",
              "      --disabled-fill-color: #AAA;\n",
              "      --disabled-bg-color: #DDD;\n",
              "  }\n",
              "\n",
              "  [theme=dark] .colab-df-quickchart {\n",
              "      --bg-color: #3B4455;\n",
              "      --fill-color: #D2E3FC;\n",
              "      --hover-bg-color: #434B5C;\n",
              "      --hover-fill-color: #FFFFFF;\n",
              "      --disabled-bg-color: #3B4455;\n",
              "      --disabled-fill-color: #666;\n",
              "  }\n",
              "\n",
              "  .colab-df-quickchart {\n",
              "    background-color: var(--bg-color);\n",
              "    border: none;\n",
              "    border-radius: 50%;\n",
              "    cursor: pointer;\n",
              "    display: none;\n",
              "    fill: var(--fill-color);\n",
              "    height: 32px;\n",
              "    padding: 0;\n",
              "    width: 32px;\n",
              "  }\n",
              "\n",
              "  .colab-df-quickchart:hover {\n",
              "    background-color: var(--hover-bg-color);\n",
              "    box-shadow: 0 1px 2px rgba(60, 64, 67, 0.3), 0 1px 3px 1px rgba(60, 64, 67, 0.15);\n",
              "    fill: var(--button-hover-fill-color);\n",
              "  }\n",
              "\n",
              "  .colab-df-quickchart-complete:disabled,\n",
              "  .colab-df-quickchart-complete:disabled:hover {\n",
              "    background-color: var(--disabled-bg-color);\n",
              "    fill: var(--disabled-fill-color);\n",
              "    box-shadow: none;\n",
              "  }\n",
              "\n",
              "  .colab-df-spinner {\n",
              "    border: 2px solid var(--fill-color);\n",
              "    border-color: transparent;\n",
              "    border-bottom-color: var(--fill-color);\n",
              "    animation:\n",
              "      spin 1s steps(1) infinite;\n",
              "  }\n",
              "\n",
              "  @keyframes spin {\n",
              "    0% {\n",
              "      border-color: transparent;\n",
              "      border-bottom-color: var(--fill-color);\n",
              "      border-left-color: var(--fill-color);\n",
              "    }\n",
              "    20% {\n",
              "      border-color: transparent;\n",
              "      border-left-color: var(--fill-color);\n",
              "      border-top-color: var(--fill-color);\n",
              "    }\n",
              "    30% {\n",
              "      border-color: transparent;\n",
              "      border-left-color: var(--fill-color);\n",
              "      border-top-color: var(--fill-color);\n",
              "      border-right-color: var(--fill-color);\n",
              "    }\n",
              "    40% {\n",
              "      border-color: transparent;\n",
              "      border-right-color: var(--fill-color);\n",
              "      border-top-color: var(--fill-color);\n",
              "    }\n",
              "    60% {\n",
              "      border-color: transparent;\n",
              "      border-right-color: var(--fill-color);\n",
              "    }\n",
              "    80% {\n",
              "      border-color: transparent;\n",
              "      border-right-color: var(--fill-color);\n",
              "      border-bottom-color: var(--fill-color);\n",
              "    }\n",
              "    90% {\n",
              "      border-color: transparent;\n",
              "      border-bottom-color: var(--fill-color);\n",
              "    }\n",
              "  }\n",
              "</style>\n",
              "\n",
              "  <script>\n",
              "    async function quickchart(key) {\n",
              "      const quickchartButtonEl =\n",
              "        document.querySelector('#' + key + ' button');\n",
              "      quickchartButtonEl.disabled = true;  // To prevent multiple clicks.\n",
              "      quickchartButtonEl.classList.add('colab-df-spinner');\n",
              "      try {\n",
              "        const charts = await google.colab.kernel.invokeFunction(\n",
              "            'suggestCharts', [key], {});\n",
              "      } catch (error) {\n",
              "        console.error('Error during call to suggestCharts:', error);\n",
              "      }\n",
              "      quickchartButtonEl.classList.remove('colab-df-spinner');\n",
              "      quickchartButtonEl.classList.add('colab-df-quickchart-complete');\n",
              "    }\n",
              "    (() => {\n",
              "      let quickchartButtonEl =\n",
              "        document.querySelector('#df-986248f9-e445-4623-8b1b-052755a60371 button');\n",
              "      quickchartButtonEl.style.display =\n",
              "        google.colab.kernel.accessAllowed ? 'block' : 'none';\n",
              "    })();\n",
              "  </script>\n",
              "</div>\n",
              "\n",
              "    </div>\n",
              "  </div>\n"
            ],
            "application/vnd.google.colaboratory.intrinsic+json": {
              "type": "dataframe",
              "variable_name": "df",
              "summary": "{\n  \"name\": \"df\",\n  \"rows\": 5572,\n  \"fields\": [\n    {\n      \"column\": \"Category\",\n      \"properties\": {\n        \"dtype\": \"category\",\n        \"num_unique_values\": 2,\n        \"samples\": [\n          \"spam\",\n          \"ham\"\n        ],\n        \"semantic_type\": \"\",\n        \"description\": \"\"\n      }\n    },\n    {\n      \"column\": \"Message\",\n      \"properties\": {\n        \"dtype\": \"string\",\n        \"num_unique_values\": 5157,\n        \"samples\": [\n          \"Also sir, i sent you an email about how to log into the usc payment portal. I.ll send you another message that should explain how things are back home. Have a great weekend.\",\n          \"Are you free now?can i call now?\"\n        ],\n        \"semantic_type\": \"\",\n        \"description\": \"\"\n      }\n    }\n  ]\n}"
            }
          },
          "metadata": {},
          "execution_count": 3
        }
      ]
    },
    {
      "cell_type": "code",
      "source": [
        "df.shape"
      ],
      "metadata": {
        "colab": {
          "base_uri": "https://localhost:8080/",
          "height": 0
        },
        "id": "aseoYetyMh9c",
        "outputId": "4bd87dbb-3a1c-4aa9-8351-f2aabbc8dae5"
      },
      "execution_count": 4,
      "outputs": [
        {
          "output_type": "execute_result",
          "data": {
            "text/plain": [
              "(5572, 2)"
            ]
          },
          "metadata": {},
          "execution_count": 4
        }
      ]
    },
    {
      "cell_type": "code",
      "source": [
        "df.index = range(5572) #set the index range of dataframe\n",
        "df['Message'].apply(lambda x: len(x.split(' '))).sum() #get the number of total words in messages coloumn"
      ],
      "metadata": {
        "colab": {
          "base_uri": "https://localhost:8080/",
          "height": 0
        },
        "id": "yLehl_sBMh7S",
        "outputId": "48c720c9-5ced-4864-a296-5c39a3bd041b"
      },
      "execution_count": 5,
      "outputs": [
        {
          "output_type": "execute_result",
          "data": {
            "text/plain": [
              "87265"
            ]
          },
          "metadata": {},
          "execution_count": 5
        }
      ]
    },
    {
      "cell_type": "markdown",
      "source": [
        "### Visualize the Data"
      ],
      "metadata": {
        "id": "vUUCYX2BOOZV"
      }
    },
    {
      "cell_type": "code",
      "source": [
        "cnt_pro = df['Category'].value_counts()\n",
        "plt.figure(figsize=(12,4))\n",
        "\n",
        "# Pass x and y as keyword arguments\n",
        "sns.barplot(x=cnt_pro.index, y=cnt_pro.values, alpha=0.8, palette=\"viridis\")\n",
        "\n",
        "plt.ylabel('Number of Occurrences', fontsize=12)\n",
        "plt.xlabel('Category', fontsize=12)\n",
        "plt.xticks(rotation=45)\n",
        "plt.show()"
      ],
      "metadata": {
        "colab": {
          "base_uri": "https://localhost:8080/",
          "height": 503
        },
        "id": "gKF1BfuEMh5Q",
        "outputId": "4b54c34c-93f9-4d92-aaeb-6a5d076b5505"
      },
      "execution_count": 6,
      "outputs": [
        {
          "output_type": "stream",
          "name": "stderr",
          "text": [
            "<ipython-input-6-ded373282ae8>:5: FutureWarning: \n",
            "\n",
            "Passing `palette` without assigning `hue` is deprecated and will be removed in v0.14.0. Assign the `x` variable to `hue` and set `legend=False` for the same effect.\n",
            "\n",
            "  sns.barplot(x=cnt_pro.index, y=cnt_pro.values, alpha=0.8, palette=\"viridis\")\n"
          ]
        },
        {
          "output_type": "display_data",
          "data": {
            "text/plain": [
              "<Figure size 1200x400 with 1 Axes>"
            ],
            "image/png": "[encoded data removed]"
          },
          "metadata": {}
        }
      ]
    },
    {
      "cell_type": "code",
      "source": [
        "def print_message(index):\n",
        "    if index >= len(df):\n",
        "        print(f\"Index {index} is out of bounds.\")\n",
        "        return\n",
        "    example = df[df.index == index][['Message', 'Category']].values[0]\n",
        "    if len(example) > 0:\n",
        "        print(f\"Message: {example[0]}\")\n",
        "        print(f\"Message Category: {example[1]}\")\n",
        "\n",
        "print_message(12)"
      ],
      "metadata": {
        "colab": {
          "base_uri": "https://localhost:8080/",
          "height": 0
        },
        "id": "HQHihKdYMh2-",
        "outputId": "9aeae5df-415d-4fc2-f45f-116a7975f958"
      },
      "execution_count": 7,
      "outputs": [
        {
          "output_type": "stream",
          "name": "stdout",
          "text": [
            "Message: URGENT! You have won a 1 week FREE membership in our Â£100,000 Prize Jackpot! Txt the word: CLAIM to No: 81010 T&C www.dbuk.net LCCLTD POBOX 4403LDNW1A7RW18\n",
            "Message Category: spam\n"
          ]
        }
      ]
    },
    {
      "cell_type": "markdown",
      "source": [
        "### Text Preprocessing"
      ],
      "metadata": {
        "id": "1NWnau9iOfRQ"
      }
    },
    {
      "cell_type": "markdown",
      "source": [
        "Define a function to convert text to lower-case and strip punctuation/symbols from words and so on."
      ],
      "metadata": {
        "id": "zC_RRWq4OmVy"
      }
    },
    {
      "cell_type": "code",
      "source": [
        "from bs4 import BeautifulSoup\n",
        "import re\n",
        "\n",
        "def cleanText(text):\n",
        "    text = BeautifulSoup(text, \"lxml\").text  # Remove HTML tags\n",
        "    text = re.sub(r'\\|\\|\\|', r' ', text)  # Replace '|||' with space\n",
        "    text = re.sub(r'http\\S+', r'<URL>', text)  # Replace URLs with '<URL>'\n",
        "    text = text.lower()  # Convert text to lowercase\n",
        "    return text\n",
        "\n",
        "df['Message'] = df['Message'].apply(cleanText)"
      ],
      "metadata": {
        "colab": {
          "base_uri": "https://localhost:8080/",
          "height": 0
        },
        "id": "NUhHukQLMhyZ",
        "outputId": "48a8822c-1984-4f75-9abf-664196f1af1e"
      },
      "execution_count": 8,
      "outputs": [
        {
          "output_type": "stream",
          "name": "stderr",
          "text": [
            "<ipython-input-8-e0483c71732e>:5: MarkupResemblesLocatorWarning: The input looks more like a filename than markup. You may want to open this file and pass the filehandle into Beautiful Soup.\n",
            "  text = BeautifulSoup(text, \"lxml\").text  # Remove HTML tags\n"
          ]
        }
      ]
    },
    {
      "cell_type": "markdown",
      "source": [
        "### Text Tokenization and Dataset Preparation for LSTM Model"
      ],
      "metadata": {
        "id": "YL2Tcsh8u9BB"
      }
    },
    {
      "cell_type": "code",
      "source": [
        "### Text Tokenization and Dataset Preparation for LSTM Model\n",
        "max_fatures = 20000 # The maximum number of words to be used.\n",
        "MAX_SEQUENCE_LENGTH = 50  # Max number of words in each message.\n",
        "\n",
        "tokenizer = Tokenizer(num_words=max_fatures, split=' ', lower=True)\n",
        "tokenizer.fit_on_texts(df['Message'].values)"
      ],
      "metadata": {
        "id": "fJDJZOgaMhwP"
      },
      "execution_count": 25,
      "outputs": []
    },
    {
      "cell_type": "code",
      "source": [
        "vocab_size = len(tokenizer.word_index) + 1  # Total number of words in vocabulary"
      ],
      "metadata": {
        "id": "1a5QVDS64yDB"
      },
      "execution_count": 10,
      "outputs": []
    },
    {
      "cell_type": "code",
      "source": [
        "vocab_size"
      ],
      "metadata": {
        "colab": {
          "base_uri": "https://localhost:8080/",
          "height": 0
        },
        "id": "UrIOYtGB45Fe",
        "outputId": "e3a36b2a-2418-43b8-b102-497f72b3f316"
      },
      "execution_count": 11,
      "outputs": [
        {
          "output_type": "execute_result",
          "data": {
            "text/plain": [
              "8988"
            ]
          },
          "metadata": {},
          "execution_count": 11
        }
      ]
    },
    {
      "cell_type": "code",
      "source": [
        "tokenizer.word_index"
      ],
      "metadata": {
        "colab": {
          "base_uri": "https://localhost:8080/",
          "height": 0
        },
        "collapsed": true,
        "id": "FRWoDcuh49Kv",
        "outputId": "39e7128f-c6f9-4b08-c7b1-5ad76074f933"
      },
      "execution_count": 12,
      "outputs": [
        {
          "output_type": "execute_result",
          "data": {
            "text/plain": [
              "{'i': 1,\n",
              " 'to': 2,\n",
              " 'you': 3,\n",
              " 'a': 4,\n",
              " 'the': 5,\n",
              " 'u': 6,\n",
              " 'and': 7,\n",
              " 'in': 8,\n",
              " 'is': 9,\n",
              " 'me': 10,\n",
              " 'my': 11,\n",
              " 'for': 12,\n",
              " 'your': 13,\n",
              " 'it': 14,\n",
              " 'of': 15,\n",
              " 'call': 16,\n",
              " 'have': 17,\n",
              " 'on': 18,\n",
              " '2': 19,\n",
              " 'that': 20,\n",
              " 'now': 21,\n",
              " 'are': 22,\n",
              " 'so': 23,\n",
              " 'but': 24,\n",
              " 'not': 25,\n",
              " 'or': 26,\n",
              " 'do': 27,\n",
              " 'can': 28,\n",
              " 'at': 29,\n",
              " \"i'm\": 30,\n",
              " 'ur': 31,\n",
              " 'get': 32,\n",
              " 'will': 33,\n",
              " 'if': 34,\n",
              " 'be': 35,\n",
              " 'with': 36,\n",
              " 'just': 37,\n",
              " 'no': 38,\n",
              " 'we': 39,\n",
              " 'this': 40,\n",
              " '4': 41,\n",
              " 'up': 42,\n",
              " 'when': 43,\n",
              " 'ok': 44,\n",
              " 'free': 45,\n",
              " 'go': 46,\n",
              " 'how': 47,\n",
              " 'from': 48,\n",
              " 'all': 49,\n",
              " 'out': 50,\n",
              " 'what': 51,\n",
              " 'know': 52,\n",
              " 'like': 53,\n",
              " 'good': 54,\n",
              " 'then': 55,\n",
              " 'got': 56,\n",
              " 'come': 57,\n",
              " 'was': 58,\n",
              " 'its': 59,\n",
              " 'am': 60,\n",
              " 'time': 61,\n",
              " 'day': 62,\n",
              " 'only': 63,\n",
              " 'love': 64,\n",
              " 'there': 65,\n",
              " 'send': 66,\n",
              " 'he': 67,\n",
              " 'want': 68,\n",
              " 'text': 69,\n",
              " 'as': 70,\n",
              " 'txt': 71,\n",
              " 'one': 72,\n",
              " 'going': 73,\n",
              " 'by': 74,\n",
              " \"i'll\": 75,\n",
              " 'need': 76,\n",
              " 'home': 77,\n",
              " 'about': 78,\n",
              " 'r': 79,\n",
              " 'lor': 80,\n",
              " 'sorry': 81,\n",
              " 'still': 82,\n",
              " 'see': 83,\n",
              " 'stop': 84,\n",
              " 'n': 85,\n",
              " 'back': 86,\n",
              " 'today': 87,\n",
              " 'da': 88,\n",
              " 'our': 89,\n",
              " 'dont': 90,\n",
              " 'reply': 91,\n",
              " 'k': 92,\n",
              " 'she': 93,\n",
              " 'mobile': 94,\n",
              " \"don't\": 95,\n",
              " 'take': 96,\n",
              " 'hi': 97,\n",
              " 'tell': 98,\n",
              " 'new': 99,\n",
              " 'please': 100,\n",
              " 'later': 101,\n",
              " 'her': 102,\n",
              " 'pls': 103,\n",
              " 'any': 104,\n",
              " 'think': 105,\n",
              " 'been': 106,\n",
              " 'they': 107,\n",
              " 'phone': 108,\n",
              " 'here': 109,\n",
              " 'week': 110,\n",
              " 'did': 111,\n",
              " 'dear': 112,\n",
              " 'some': 113,\n",
              " 'well': 114,\n",
              " 'has': 115,\n",
              " '1': 116,\n",
              " 'ã¼': 117,\n",
              " 'night': 118,\n",
              " 'much': 119,\n",
              " 'd': 120,\n",
              " 'great': 121,\n",
              " 'oh': 122,\n",
              " 'an': 123,\n",
              " 'who': 124,\n",
              " 'hope': 125,\n",
              " 'hey': 126,\n",
              " 'claim': 127,\n",
              " 'msg': 128,\n",
              " 'where': 129,\n",
              " 'him': 130,\n",
              " 'more': 131,\n",
              " 'too': 132,\n",
              " 'happy': 133,\n",
              " 'had': 134,\n",
              " 'yes': 135,\n",
              " 'give': 136,\n",
              " 'c': 137,\n",
              " 'make': 138,\n",
              " 'way': 139,\n",
              " 'work': 140,\n",
              " 'wat': 141,\n",
              " \"it's\": 142,\n",
              " 'should': 143,\n",
              " 'number': 144,\n",
              " 'message': 145,\n",
              " 'e': 146,\n",
              " 'say': 147,\n",
              " 'tomorrow': 148,\n",
              " 'right': 149,\n",
              " 'already': 150,\n",
              " 'prize': 151,\n",
              " 'after': 152,\n",
              " 'ask': 153,\n",
              " 'said': 154,\n",
              " '3': 155,\n",
              " 'cash': 156,\n",
              " 'www': 157,\n",
              " 'doing': 158,\n",
              " 'yeah': 159,\n",
              " 'really': 160,\n",
              " 'im': 161,\n",
              " 'why': 162,\n",
              " 'life': 163,\n",
              " 'meet': 164,\n",
              " 'them': 165,\n",
              " 'find': 166,\n",
              " 'miss': 167,\n",
              " 'very': 168,\n",
              " 'morning': 169,\n",
              " 'babe': 170,\n",
              " 'last': 171,\n",
              " 'win': 172,\n",
              " 'thanks': 173,\n",
              " 'would': 174,\n",
              " 'cos': 175,\n",
              " 't': 176,\n",
              " 'lol': 177,\n",
              " 'anything': 178,\n",
              " 'also': 179,\n",
              " 'b': 180,\n",
              " 'let': 181,\n",
              " 'care': 182,\n",
              " 'every': 183,\n",
              " '150p': 184,\n",
              " 'sure': 185,\n",
              " 'pick': 186,\n",
              " 'won': 187,\n",
              " 'nokia': 188,\n",
              " 'sent': 189,\n",
              " 'keep': 190,\n",
              " 'urgent': 191,\n",
              " 'something': 192,\n",
              " 'us': 193,\n",
              " 'again': 194,\n",
              " 'buy': 195,\n",
              " 'contact': 196,\n",
              " 'min': 197,\n",
              " 'gud': 198,\n",
              " 'over': 199,\n",
              " 'wait': 200,\n",
              " 'cant': 201,\n",
              " 'before': 202,\n",
              " \"i've\": 203,\n",
              " 'first': 204,\n",
              " 'even': 205,\n",
              " 'his': 206,\n",
              " 's': 207,\n",
              " 'com': 208,\n",
              " '5': 209,\n",
              " 'next': 210,\n",
              " 'feel': 211,\n",
              " 'were': 212,\n",
              " 'uk': 213,\n",
              " 'nice': 214,\n",
              " 'someone': 215,\n",
              " 'went': 216,\n",
              " 'thing': 217,\n",
              " 'around': 218,\n",
              " 'soon': 219,\n",
              " \"can't\": 220,\n",
              " 'which': 221,\n",
              " 'off': 222,\n",
              " 'tonight': 223,\n",
              " 'could': 224,\n",
              " 'place': 225,\n",
              " 'money': 226,\n",
              " 'service': 227,\n",
              " 'tone': 228,\n",
              " 'late': 229,\n",
              " 'many': 230,\n",
              " '50': 231,\n",
              " 'per': 232,\n",
              " 'customer': 233,\n",
              " 'gonna': 234,\n",
              " 'always': 235,\n",
              " 'chat': 236,\n",
              " 'ya': 237,\n",
              " 'sleep': 238,\n",
              " 'leave': 239,\n",
              " 'down': 240,\n",
              " \"that's\": 241,\n",
              " 'x': 242,\n",
              " 'dun': 243,\n",
              " 'friends': 244,\n",
              " 'v': 245,\n",
              " 'other': 246,\n",
              " 'wan': 247,\n",
              " '16': 248,\n",
              " 'help': 249,\n",
              " 'sms': 250,\n",
              " 'things': 251,\n",
              " 'told': 252,\n",
              " 'wish': 253,\n",
              " 'hello': 254,\n",
              " 'special': 255,\n",
              " 'waiting': 256,\n",
              " 'may': 257,\n",
              " 'try': 258,\n",
              " 'ã\\x9c': 259,\n",
              " 'fine': 260,\n",
              " \"you're\": 261,\n",
              " 'haha': 262,\n",
              " 'coming': 263,\n",
              " 'co': 264,\n",
              " 'name': 265,\n",
              " 'getting': 266,\n",
              " 'done': 267,\n",
              " 'year': 268,\n",
              " 'same': 269,\n",
              " 'guaranteed': 270,\n",
              " 'yet': 271,\n",
              " 'people': 272,\n",
              " 'thk': 273,\n",
              " 'use': 274,\n",
              " '18': 275,\n",
              " 'friend': 276,\n",
              " 'best': 277,\n",
              " 'mins': 278,\n",
              " 'heart': 279,\n",
              " 'thought': 280,\n",
              " '6': 281,\n",
              " 'holiday': 282,\n",
              " 'lunch': 283,\n",
              " 'live': 284,\n",
              " 'man': 285,\n",
              " 'talk': 286,\n",
              " 'stuff': 287,\n",
              " 'bit': 288,\n",
              " 'class': 289,\n",
              " 'y': 290,\n",
              " 'smile': 291,\n",
              " 'person': 292,\n",
              " 'being': 293,\n",
              " \"didn't\": 294,\n",
              " 'never': 295,\n",
              " 'few': 296,\n",
              " 'days': 297,\n",
              " '7': 298,\n",
              " 'yup': 299,\n",
              " 'trying': 300,\n",
              " 'meeting': 301,\n",
              " 'thats': 302,\n",
              " 'cool': 303,\n",
              " 'job': 304,\n",
              " 'better': 305,\n",
              " 'house': 306,\n",
              " 'ill': 307,\n",
              " 'line': 308,\n",
              " 'finish': 309,\n",
              " 'long': 310,\n",
              " 'draw': 311,\n",
              " 'ready': 312,\n",
              " 'cs': 313,\n",
              " 'having': 314,\n",
              " 'mind': 315,\n",
              " 'car': 316,\n",
              " 'end': 317,\n",
              " 'wk': 318,\n",
              " 'god': 319,\n",
              " 'enjoy': 320,\n",
              " 'â£1': 321,\n",
              " 'latest': 322,\n",
              " 'half': 323,\n",
              " 'play': 324,\n",
              " 'check': 325,\n",
              " 'real': 326,\n",
              " 'yo': 327,\n",
              " 'lot': 328,\n",
              " 'account': 329,\n",
              " 'because': 330,\n",
              " 'dat': 331,\n",
              " 'than': 332,\n",
              " 'chance': 333,\n",
              " 'lar': 334,\n",
              " 'receive': 335,\n",
              " 'word': 336,\n",
              " 'camera': 337,\n",
              " 'eat': 338,\n",
              " 'awarded': 339,\n",
              " 'wanna': 340,\n",
              " 'box': 341,\n",
              " 'nothing': 342,\n",
              " 'guess': 343,\n",
              " 'sir': 344,\n",
              " 'luv': 345,\n",
              " 'start': 346,\n",
              " 'problem': 347,\n",
              " '1st': 348,\n",
              " 'world': 349,\n",
              " 'another': 350,\n",
              " 'bt': 351,\n",
              " 'liao': 352,\n",
              " 'guys': 353,\n",
              " 'big': 354,\n",
              " 'dinner': 355,\n",
              " 'month': 356,\n",
              " 'sweet': 357,\n",
              " 'ah': 358,\n",
              " 'birthday': 359,\n",
              " 'shows': 360,\n",
              " 'into': 361,\n",
              " 'shit': 362,\n",
              " 'xxx': 363,\n",
              " 'â£1000': 364,\n",
              " 'po': 365,\n",
              " 'girl': 366,\n",
              " 'jus': 367,\n",
              " 'might': 368,\n",
              " 'ever': 369,\n",
              " 'quite': 370,\n",
              " 'cost': 371,\n",
              " 'wont': 372,\n",
              " 'watching': 373,\n",
              " 'room': 374,\n",
              " 'landline': 375,\n",
              " 'offer': 376,\n",
              " 'g': 377,\n",
              " 'video': 378,\n",
              " 'early': 379,\n",
              " 'speak': 380,\n",
              " 'once': 381,\n",
              " 'aight': 382,\n",
              " 'tv': 383,\n",
              " 'called': 384,\n",
              " 'watch': 385,\n",
              " 'two': 386,\n",
              " 'probably': 387,\n",
              " 'rate': 388,\n",
              " 'apply': 389,\n",
              " '9': 390,\n",
              " 'remember': 391,\n",
              " 'pay': 392,\n",
              " 'left': 393,\n",
              " 'does': 394,\n",
              " 'maybe': 395,\n",
              " 'hear': 396,\n",
              " 'pa': 397,\n",
              " 'bed': 398,\n",
              " 'forgot': 399,\n",
              " 'll': 400,\n",
              " 'boy': 401,\n",
              " 'thanx': 402,\n",
              " 'plan': 403,\n",
              " 'shall': 404,\n",
              " 'minutes': 405,\n",
              " 'sat': 406,\n",
              " 'actually': 407,\n",
              " 'den': 408,\n",
              " 'bad': 409,\n",
              " 'princess': 410,\n",
              " 'fun': 411,\n",
              " 'code': 412,\n",
              " 'ringtone': 413,\n",
              " 'look': 414,\n",
              " 'weekend': 415,\n",
              " 'part': 416,\n",
              " 'between': 417,\n",
              " '150ppm': 418,\n",
              " 'easy': 419,\n",
              " 'reach': 420,\n",
              " 'shopping': 421,\n",
              " 'baby': 422,\n",
              " 'made': 423,\n",
              " 'dunno': 424,\n",
              " 'orange': 425,\n",
              " 'office': 426,\n",
              " 'kiss': 427,\n",
              " \"he's\": 428,\n",
              " 'dis': 429,\n",
              " '10': 430,\n",
              " 'anyway': 431,\n",
              " 'little': 432,\n",
              " 'leh': 433,\n",
              " 'face': 434,\n",
              " 'everything': 435,\n",
              " 'didnt': 436,\n",
              " 'hour': 437,\n",
              " 'network': 438,\n",
              " 'selected': 439,\n",
              " 'enough': 440,\n",
              " '000': 441,\n",
              " 'thank': 442,\n",
              " 'bus': 443,\n",
              " '2nd': 444,\n",
              " \"how's\": 445,\n",
              " 'looking': 446,\n",
              " 'award': 447,\n",
              " 'those': 448,\n",
              " 'm': 449,\n",
              " 'working': 450,\n",
              " 'put': 451,\n",
              " 'wife': 452,\n",
              " 'town': 453,\n",
              " \"there's\": 454,\n",
              " 'most': 455,\n",
              " 'afternoon': 456,\n",
              " 'without': 457,\n",
              " 'missing': 458,\n",
              " 'tmr': 459,\n",
              " 'evening': 460,\n",
              " 'collect': 461,\n",
              " 'asked': 462,\n",
              " 'true': 463,\n",
              " 'texts': 464,\n",
              " '8': 465,\n",
              " 'while': 466,\n",
              " 'fuck': 467,\n",
              " 'dad': 468,\n",
              " 'until': 469,\n",
              " 'wif': 470,\n",
              " 'though': 471,\n",
              " 'wanted': 472,\n",
              " 'calls': 473,\n",
              " 'since': 474,\n",
              " 'pain': 475,\n",
              " 'came': 476,\n",
              " 'okay': 477,\n",
              " 'says': 478,\n",
              " 'must': 479,\n",
              " 'school': 480,\n",
              " 'join': 481,\n",
              " 'mail': 482,\n",
              " 'sexy': 483,\n",
              " 'xmas': 484,\n",
              " 'important': 485,\n",
              " 'details': 486,\n",
              " 'entry': 487,\n",
              " 'goes': 488,\n",
              " 'update': 489,\n",
              " 'means': 490,\n",
              " 'abt': 491,\n",
              " 'able': 492,\n",
              " 'hav': 493,\n",
              " 'wake': 494,\n",
              " 'tones': 495,\n",
              " 'wot': 496,\n",
              " 'bring': 497,\n",
              " 'collection': 498,\n",
              " 'times': 499,\n",
              " 'url': 500,\n",
              " 'messages': 501,\n",
              " 'missed': 502,\n",
              " 'mob': 503,\n",
              " 'wen': 504,\n",
              " 'show': 505,\n",
              " 'price': 506,\n",
              " 'juz': 507,\n",
              " 'years': 508,\n",
              " 'decimal': 509,\n",
              " 'plz': 510,\n",
              " 'de': 511,\n",
              " 'away': 512,\n",
              " 'gift': 513,\n",
              " 'plus': 514,\n",
              " 'valid': 515,\n",
              " 'â£100': 516,\n",
              " 'alright': 517,\n",
              " 'till': 518,\n",
              " 're': 519,\n",
              " 'saw': 520,\n",
              " 'yesterday': 521,\n",
              " 'hair': 522,\n",
              " 'havent': 523,\n",
              " 'else': 524,\n",
              " 'worry': 525,\n",
              " 'shop': 526,\n",
              " '500': 527,\n",
              " '10p': 528,\n",
              " 'music': 529,\n",
              " 'weekly': 530,\n",
              " 'bored': 531,\n",
              " 'guy': 532,\n",
              " 'colour': 533,\n",
              " 'net': 534,\n",
              " 'words': 535,\n",
              " 'yours': 536,\n",
              " 'double': 537,\n",
              " 'run': 538,\n",
              " 'making': 539,\n",
              " 'food': 540,\n",
              " 'haf': 541,\n",
              " 'til': 542,\n",
              " 'id': 543,\n",
              " 'oso': 544,\n",
              " 'hurt': 545,\n",
              " 'book': 546,\n",
              " 'dude': 547,\n",
              " 'stay': 548,\n",
              " 'attempt': 549,\n",
              " 'these': 550,\n",
              " 'online': 551,\n",
              " 'makes': 552,\n",
              " 'lei': 553,\n",
              " 'question': 554,\n",
              " 'national': 555,\n",
              " 'ard': 556,\n",
              " \"we're\": 557,\n",
              " \"won't\": 558,\n",
              " 'tried': 559,\n",
              " 'delivery': 560,\n",
              " 'yourself': 561,\n",
              " \"haven't\": 562,\n",
              " 'driving': 563,\n",
              " 'test': 564,\n",
              " 'address': 565,\n",
              " 'answer': 566,\n",
              " 'top': 567,\n",
              " 'coz': 568,\n",
              " \"what's\": 569,\n",
              " 'nite': 570,\n",
              " 'hot': 571,\n",
              " 'friendship': 572,\n",
              " 'change': 573,\n",
              " 'feeling': 574,\n",
              " 'either': 575,\n",
              " 'sch': 576,\n",
              " 'family': 577,\n",
              " 'goin': 578,\n",
              " 'dreams': 579,\n",
              " 'hours': 580,\n",
              " 'date': 581,\n",
              " 'bonus': 582,\n",
              " 'trip': 583,\n",
              " 'comes': 584,\n",
              " 'â£5000': 585,\n",
              " 'movie': 586,\n",
              " 'busy': 587,\n",
              " \"''\": 588,\n",
              " 'todays': 589,\n",
              " 'order': 590,\n",
              " 'believe': 591,\n",
              " 'both': 592,\n",
              " 'vouchers': 593,\n",
              " 'wid': 594,\n",
              " 'full': 595,\n",
              " 'calling': 596,\n",
              " 'tot': 597,\n",
              " 'beautiful': 598,\n",
              " 'sae': 599,\n",
              " 'lose': 600,\n",
              " 'game': 601,\n",
              " 'together': 602,\n",
              " 'wants': 603,\n",
              " '8007': 604,\n",
              " 'sad': 605,\n",
              " 'set': 606,\n",
              " 'smiling': 607,\n",
              " 'mean': 608,\n",
              " 'old': 609,\n",
              " 'points': 610,\n",
              " 'â£2000': 611,\n",
              " 'leaving': 612,\n",
              " 'story': 613,\n",
              " 'sleeping': 614,\n",
              " 'noe': 615,\n",
              " 'happen': 616,\n",
              " 'walk': 617,\n",
              " 'ring': 618,\n",
              " 'club': 619,\n",
              " 'charge': 620,\n",
              " 'games': 621,\n",
              " \"we'll\": 622,\n",
              " 'chikku': 623,\n",
              " 'huh': 624,\n",
              " 'eve': 625,\n",
              " 'â£500': 626,\n",
              " 'o': 627,\n",
              " 'saying': 628,\n",
              " 'drive': 629,\n",
              " 'await': 630,\n",
              " 'brother': 631,\n",
              " 'pounds': 632,\n",
              " 'news': 633,\n",
              " 'aft': 634,\n",
              " 'tomo': 635,\n",
              " 'congrats': 636,\n",
              " 'took': 637,\n",
              " 'finished': 638,\n",
              " 'started': 639,\n",
              " 'private': 640,\n",
              " 'gr8': 641,\n",
              " 'awesome': 642,\n",
              " 'minute': 643,\n",
              " 'wil': 644,\n",
              " '86688': 645,\n",
              " 'okie': 646,\n",
              " 'post': 647,\n",
              " 'row': 648,\n",
              " 'poly': 649,\n",
              " 'pm': 650,\n",
              " 'thinking': 651,\n",
              " 'pics': 652,\n",
              " 'email': 653,\n",
              " 'rite': 654,\n",
              " 'pic': 655,\n",
              " 'available': 656,\n",
              " 'final': 657,\n",
              " \"c's\": 658,\n",
              " 'tho': 659,\n",
              " 'forget': 660,\n",
              " 'second': 661,\n",
              " 'xx': 662,\n",
              " 'close': 663,\n",
              " 'cause': 664,\n",
              " 'services': 665,\n",
              " 'taking': 666,\n",
              " 'everyone': 667,\n",
              " 'smoke': 668,\n",
              " 'touch': 669,\n",
              " 'angry': 670,\n",
              " '750': 671,\n",
              " 'unsubscribe': 672,\n",
              " 'lets': 673,\n",
              " 'drink': 674,\n",
              " 'head': 675,\n",
              " 'land': 676,\n",
              " 'gd': 677,\n",
              " 'neva': 678,\n",
              " 'pub': 679,\n",
              " 'anyone': 680,\n",
              " \"she's\": 681,\n",
              " 'drop': 682,\n",
              " 'auction': 683,\n",
              " '11': 684,\n",
              " 'lesson': 685,\n",
              " 'lucky': 686,\n",
              " 'search': 687,\n",
              " '12hrs': 688,\n",
              " 'statement': 689,\n",
              " 'expires': 690,\n",
              " 'msgs': 691,\n",
              " 'open': 692,\n",
              " 'whats': 693,\n",
              " 'lots': 694,\n",
              " 'each': 695,\n",
              " 'worth': 696,\n",
              " 'sis': 697,\n",
              " 'found': 698,\n",
              " 'break': 699,\n",
              " 'sounds': 700,\n",
              " 'company': 701,\n",
              " 'choose': 702,\n",
              " 'card': 703,\n",
              " 'w': 704,\n",
              " 'sister': 705,\n",
              " 'dating': 706,\n",
              " 'opt': 707,\n",
              " 'simple': 708,\n",
              " 'mine': 709,\n",
              " 'whatever': 710,\n",
              " 'voucher': 711,\n",
              " 'knw': 712,\n",
              " 'don': 713,\n",
              " 'loving': 714,\n",
              " 'alone': 715,\n",
              " 'treat': 716,\n",
              " 'winner': 717,\n",
              " '100': 718,\n",
              " 'info': 719,\n",
              " 'pobox': 720,\n",
              " 'wonderful': 721,\n",
              " 'ha': 722,\n",
              " 'smth': 723,\n",
              " 'saturday': 724,\n",
              " 'decided': 725,\n",
              " '08000930705': 726,\n",
              " 'girls': 727,\n",
              " 'prob': 728,\n",
              " 'gone': 729,\n",
              " 'happened': 730,\n",
              " 'identifier': 731,\n",
              " 'nt': 732,\n",
              " 'type': 733,\n",
              " 'ni8': 734,\n",
              " 'ltd': 735,\n",
              " 'hard': 736,\n",
              " 'frnd': 737,\n",
              " 'needs': 738,\n",
              " 'carlos': 739,\n",
              " 'boytoy': 740,\n",
              " 'college': 741,\n",
              " 'takes': 742,\n",
              " 'anytime': 743,\n",
              " 'far': 744,\n",
              " 'mobileupd8': 745,\n",
              " 'bout': 746,\n",
              " 'kind': 747,\n",
              " 'visit': 748,\n",
              " 'fast': 749,\n",
              " 'mum': 750,\n",
              " 'sun': 751,\n",
              " 'hows': 752,\n",
              " 'crazy': 753,\n",
              " \"doesn't\": 754,\n",
              " 'camcorder': 755,\n",
              " 'used': 756,\n",
              " 'hit': 757,\n",
              " 'operator': 758,\n",
              " 'friday': 759,\n",
              " 'quiz': 760,\n",
              " 'player': 761,\n",
              " 'parents': 762,\n",
              " 'hand': 763,\n",
              " 'content': 764,\n",
              " 'wit': 765,\n",
              " \"you've\": 766,\n",
              " 'finally': 767,\n",
              " 'darlin': 768,\n",
              " 'rs': 769,\n",
              " 'goodmorning': 770,\n",
              " 'oredi': 771,\n",
              " 'secret': 772,\n",
              " 'tel': 773,\n",
              " 'hold': 774,\n",
              " 'read': 775,\n",
              " 'light': 776,\n",
              " 'suite342': 777,\n",
              " '2lands': 778,\n",
              " '08000839402': 779,\n",
              " 'fucking': 780,\n",
              " 'nope': 781,\n",
              " 'outside': 782,\n",
              " 'fri': 783,\n",
              " 'â£3': 784,\n",
              " 'pretty': 785,\n",
              " 'sea': 786,\n",
              " 'weeks': 787,\n",
              " 'lovely': 788,\n",
              " 'mates': 789,\n",
              " 'wrong': 790,\n",
              " 'nyt': 791,\n",
              " 'chennai': 792,\n",
              " '30': 793,\n",
              " 'wkly': 794,\n",
              " 'freemsg': 795,\n",
              " \"'\": 796,\n",
              " 'sunday': 797,\n",
              " 'credit': 798,\n",
              " 'hungry': 799,\n",
              " 'seeing': 800,\n",
              " 'telling': 801,\n",
              " 'whole': 802,\n",
              " 'frnds': 803,\n",
              " 'hmm': 804,\n",
              " 'mu': 805,\n",
              " \"you'll\": 806,\n",
              " 'yr': 807,\n",
              " 'their': 808,\n",
              " 'f': 809,\n",
              " 'fancy': 810,\n",
              " 'bank': 811,\n",
              " 'log': 812,\n",
              " 'course': 813,\n",
              " 'mrng': 814,\n",
              " 'tc': 815,\n",
              " 'thinks': 816,\n",
              " 'case': 817,\n",
              " 'meant': 818,\n",
              " 'unlimited': 819,\n",
              " 'blue': 820,\n",
              " 'project': 821,\n",
              " 'reason': 822,\n",
              " 'â£250': 823,\n",
              " 'ten': 824,\n",
              " 'welcome': 825,\n",
              " 'cum': 826,\n",
              " 'frm': 827,\n",
              " 'savamob': 828,\n",
              " 'offers': 829,\n",
              " 'listen': 830,\n",
              " 'snow': 831,\n",
              " 'â\\x80¦': 832,\n",
              " 'mate': 833,\n",
              " 'least': 834,\n",
              " 'earlier': 835,\n",
              " 'party': 836,\n",
              " 'point': 837,\n",
              " 'press': 838,\n",
              " 'valued': 839,\n",
              " 'almost': 840,\n",
              " 'etc': 841,\n",
              " 'cut': 842,\n",
              " 'hee': 843,\n",
              " 'download': 844,\n",
              " '0800': 845,\n",
              " 'mah': 846,\n",
              " 'felt': 847,\n",
              " 'caller': 848,\n",
              " '03': 849,\n",
              " 'numbers': 850,\n",
              " 'age': 851,\n",
              " 'tired': 852,\n",
              " 'hmmm': 853,\n",
              " 'mr': 854,\n",
              " 'balance': 855,\n",
              " 'march': 856,\n",
              " 'side': 857,\n",
              " 'fr': 858,\n",
              " 'congratulations': 859,\n",
              " '87066': 860,\n",
              " 'dnt': 861,\n",
              " 'fone': 862,\n",
              " 'stupid': 863,\n",
              " 'bslvyl': 864,\n",
              " 'lost': 865,\n",
              " 'christmas': 866,\n",
              " 'reading': 867,\n",
              " 'txts': 868,\n",
              " 'ago': 869,\n",
              " 'currently': 870,\n",
              " 'motorola': 871,\n",
              " 'talking': 872,\n",
              " 'couple': 873,\n",
              " 'phones': 874,\n",
              " 'ass': 875,\n",
              " 'india': 876,\n",
              " 'park': 877,\n",
              " 'â£2': 878,\n",
              " 'within': 879,\n",
              " '2003': 880,\n",
              " '800': 881,\n",
              " 'un': 882,\n",
              " 'yar': 883,\n",
              " 'happiness': 884,\n",
              " 'area': 885,\n",
              " 'â£350': 886,\n",
              " 'sex': 887,\n",
              " 'mayb': 888,\n",
              " 'b4': 889,\n",
              " 'understand': 890,\n",
              " 'knew': 891,\n",
              " 'gn': 892,\n",
              " 'support': 893,\n",
              " 'na': 894,\n",
              " 'luck': 895,\n",
              " 'enter': 896,\n",
              " 'gas': 897,\n",
              " 'father': 898,\n",
              " 'comp': 899,\n",
              " \"i'd\": 900,\n",
              " 'mobiles': 901,\n",
              " '20': 902,\n",
              " 'eh': 903,\n",
              " 'charged': 904,\n",
              " 'confirm': 905,\n",
              " 'wow': 906,\n",
              " 'ac': 907,\n",
              " 'red': 908,\n",
              " 'correct': 909,\n",
              " 'pass': 910,\n",
              " 'song': 911,\n",
              " 'complimentary': 912,\n",
              " 'gotta': 913,\n",
              " 'loads': 914,\n",
              " 'computer': 915,\n",
              " 'mom': 916,\n",
              " 'askd': 917,\n",
              " 'invited': 918,\n",
              " 'uncle': 919,\n",
              " 'sending': 920,\n",
              " 'direct': 921,\n",
              " 'semester': 922,\n",
              " 'bcoz': 923,\n",
              " 'reveal': 924,\n",
              " 'laptop': 925,\n",
              " 'questions': 926,\n",
              " 'swing': 927,\n",
              " 'ge': 928,\n",
              " 'ends': 929,\n",
              " 'die': 930,\n",
              " 'via': 931,\n",
              " 'met': 932,\n",
              " 'st': 933,\n",
              " 'call2optout': 934,\n",
              " 'seen': 935,\n",
              " 'rental': 936,\n",
              " 'th': 937,\n",
              " 'supposed': 938,\n",
              " 'doin': 939,\n",
              " 'ipod': 940,\n",
              " 'redeemed': 941,\n",
              " '04': 942,\n",
              " 'through': 943,\n",
              " 'gym': 944,\n",
              " 'darren': 945,\n",
              " 'ans': 946,\n",
              " 'picking': 947,\n",
              " 'ugh': 948,\n",
              " 'extra': 949,\n",
              " 'heard': 950,\n",
              " 'information': 951,\n",
              " 'surprise': 952,\n",
              " 'grins': 953,\n",
              " 'gal': 954,\n",
              " 'difficult': 955,\n",
              " 'john': 956,\n",
              " \"wasn't\": 957,\n",
              " 'std': 958,\n",
              " 'usf': 959,\n",
              " '12': 960,\n",
              " 'eg': 961,\n",
              " 'comin': 962,\n",
              " 'abiola': 963,\n",
              " 'crave': 964,\n",
              " 'gets': 965,\n",
              " 'move': 966,\n",
              " 'checking': 967,\n",
              " 'rply': 968,\n",
              " 'shower': 969,\n",
              " \"isn't\": 970,\n",
              " 'entered': 971,\n",
              " 'match': 972,\n",
              " 'dogging': 973,\n",
              " 'txting': 974,\n",
              " 'lovable': 975,\n",
              " 'wine': 976,\n",
              " 'dream': 977,\n",
              " 'safe': 978,\n",
              " 'muz': 979,\n",
              " 'bath': 980,\n",
              " 'orchard': 981,\n",
              " 'kate': 982,\n",
              " 'exam': 983,\n",
              " 'own': 984,\n",
              " 'wana': 985,\n",
              " 'somebody': 986,\n",
              " 'rest': 987,\n",
              " 'pete': 988,\n",
              " 'plans': 989,\n",
              " 'small': 990,\n",
              " 'jay': 991,\n",
              " 'weed': 992,\n",
              " 'ex': 993,\n",
              " 'hg': 994,\n",
              " 'w1j6hl': 995,\n",
              " 'discount': 996,\n",
              " 'slow': 997,\n",
              " 'rock': 998,\n",
              " 'yep': 999,\n",
              " 'asking': 1000,\n",
              " ...}"
            ]
          },
          "metadata": {},
          "execution_count": 12
        }
      ]
    },
    {
      "cell_type": "code",
      "source": [
        "X = tokenizer.texts_to_sequences(df['Message'].values) #convert text messages into sequence of integers.\n",
        "X = pad_sequences(X, maxlen=MAX_SEQUENCE_LENGTH)\n",
        "print('Shape of data tensor:', X.shape)"
      ],
      "metadata": {
        "colab": {
          "base_uri": "https://localhost:8080/",
          "height": 0
        },
        "id": "URGzSGuyJ33l",
        "outputId": "42b28f98-260a-464e-960e-afae4ef8ea57"
      },
      "execution_count": 26,
      "outputs": [
        {
          "output_type": "stream",
          "name": "stdout",
          "text": [
            "Shape of data tensor: (5572, 50)\n"
          ]
        }
      ]
    },
    {
      "cell_type": "code",
      "source": [
        "# One-hot encoding the 'Category' column\n",
        "Y = pd.get_dummies(df['Category']).values  # One-hot encode the target variable"
      ],
      "metadata": {
        "id": "Erp98W7t9aVs"
      },
      "execution_count": 14,
      "outputs": []
    },
    {
      "cell_type": "code",
      "source": [
        "# Train-Test Split\n",
        "X_train, X_temp, Y_train, Y_temp = train_test_split(X, Y, test_size=0.3, random_state=42)\n",
        "X_val, X_test, Y_val, Y_test = train_test_split(X_temp, Y_temp, test_size=0.5, random_state=42)\n",
        "\n",
        "print(f\"Train set shape: {X_train.shape}, {Y_train.shape}\")\n",
        "print(f\"Validation set shape: {X_val.shape}, {Y_val.shape}\")\n",
        "print(f\"Test set shape: {X_test.shape}, {Y_test.shape}\")"
      ],
      "metadata": {
        "colab": {
          "base_uri": "https://localhost:8080/",
          "height": 0
        },
        "id": "zVBZ4TRS9aSK",
        "outputId": "646088c3-3d75-464c-b82e-28c90f992d83"
      },
      "execution_count": 27,
      "outputs": [
        {
          "output_type": "stream",
          "name": "stdout",
          "text": [
            "Train set shape: (3900, 50), (3900, 2)\n",
            "Validation set shape: (836, 50), (836, 2)\n",
            "Test set shape: (836, 50), (836, 2)\n"
          ]
        }
      ]
    },
    {
      "cell_type": "markdown",
      "source": [
        "### Create LSTM Model"
      ],
      "metadata": {
        "id": "FfILF1LsPly_"
      }
    },
    {
      "cell_type": "code",
      "source": [
        "### **Creating the LSTM Model using Keras Embedding**\n",
        "from tensorflow.keras.models import Sequential\n",
        "from tensorflow.keras.layers import Embedding, LSTM, Dense, Dropout"
      ],
      "metadata": {
        "id": "HxKPR3E4CkWG"
      },
      "execution_count": 16,
      "outputs": []
    },
    {
      "cell_type": "code",
      "source": [
        "# Define the model\n",
        "model = Sequential()\n",
        "embedding_dim = 100  # Size of the embedding vectors\n",
        "\n",
        "# Embedding Layer\n",
        "model.add(Embedding(input_dim=vocab_size, output_dim=embedding_dim, input_length=MAX_SEQUENCE_LENGTH))\n",
        "\n",
        "# First LSTM Layer (return_sequences=True to pass the sequence to the next LSTM)\n",
        "model.add(LSTM(50, return_sequences=True))\n",
        "\n",
        "# Dropout Layer to prevent overfitting\n",
        "model.add(Dropout(0.2))\n",
        "\n",
        "# Second LSTM Layer (final LSTM layer, return_sequences=False)\n",
        "model.add(LSTM(50, return_sequences=False))\n",
        "\n",
        "# Dense Layer (output layer for binary classification)\n",
        "model.add(Dense(2, activation='softmax'))\n",
        "\n",
        "# Compile the model\n",
        "model.compile(optimizer=\"adam\", loss=\"binary_crossentropy\", metrics=['accuracy'])\n",
        "\n",
        "# Example batch to build the model\n",
        "model.build(input_shape=(None, MAX_SEQUENCE_LENGTH))"
      ],
      "metadata": {
        "id": "IEyvQ1skScNj",
        "colab": {
          "base_uri": "https://localhost:8080/",
          "height": 0
        },
        "outputId": "9c97b9b8-6e77-4314-f195-1f3a4f2fd030"
      },
      "execution_count": 28,
      "outputs": [
        {
          "output_type": "stream",
          "name": "stderr",
          "text": [
            "/usr/local/lib/python3.10/dist-packages/keras/src/layers/core/embedding.py:90: UserWarning: Argument `input_length` is deprecated. Just remove it.\n",
            "  warnings.warn(\n"
          ]
        }
      ]
    },
    {
      "cell_type": "code",
      "source": [
        "from keras.utils import plot_model\n",
        "plot_model(model, to_file='model.png')"
      ],
      "metadata": {
        "colab": {
          "base_uri": "https://localhost:8080/",
          "height": 1064
        },
        "id": "L6b6Ly4mPMHc",
        "outputId": "b1ab320e-0479-40c3-f8a2-3ff86146abbf"
      },
      "execution_count": 29,
      "outputs": [
        {
          "output_type": "execute_result",
          "data": {
            "image/png": "[encoded data removed]",
            "text/plain": [
              "<IPython.core.display.Image object>"
            ]
          },
          "metadata": {},
          "execution_count": 29
        }
      ]
    },
    {
      "cell_type": "code",
      "source": [
        "### Model Training with Early Stopping\n",
        "from keras.callbacks import EarlyStopping\n",
        "\n",
        "# Define early stopping callback\n",
        "early_stopping = EarlyStopping(monitor='val_loss', patience=5, restore_best_weights=True)\n",
        "\n",
        "# Train the model with the validation set and early stopping\n",
        "history = model.fit(X_train, Y_train,\n",
        "                    epochs=50,\n",
        "                    batch_size=32,\n",
        "                    verbose=2,\n",
        "                    validation_data=(X_val, Y_val),\n",
        "                    callbacks=[early_stopping])  # Add early stopping callback"
      ],
      "metadata": {
        "colab": {
          "base_uri": "https://localhost:8080/",
          "height": 0
        },
        "id": "6oYDLo0kxbuH",
        "outputId": "ee2df38a-32a4-4fd7-880b-4e4318d49118"
      },
      "execution_count": 30,
      "outputs": [
        {
          "output_type": "stream",
          "name": "stdout",
          "text": [
            "Epoch 1/50\n",
            "122/122 - 4s - 29ms/step - accuracy: 0.9400 - loss: 0.1870 - val_accuracy: 0.9785 - val_loss: 0.0775\n",
            "Epoch 2/50\n",
            "122/122 - 1s - 9ms/step - accuracy: 0.9900 - loss: 0.0428 - val_accuracy: 0.9821 - val_loss: 0.0638\n",
            "Epoch 3/50\n",
            "122/122 - 2s - 14ms/step - accuracy: 0.9962 - loss: 0.0174 - val_accuracy: 0.9868 - val_loss: 0.0529\n",
            "Epoch 4/50\n",
            "122/122 - 3s - 21ms/step - accuracy: 0.9987 - loss: 0.0089 - val_accuracy: 0.9833 - val_loss: 0.0569\n",
            "Epoch 5/50\n",
            "122/122 - 1s - 9ms/step - accuracy: 0.9990 - loss: 0.0065 - val_accuracy: 0.9880 - val_loss: 0.0531\n",
            "Epoch 6/50\n",
            "122/122 - 1s - 9ms/step - accuracy: 0.9992 - loss: 0.0040 - val_accuracy: 0.9892 - val_loss: 0.0541\n",
            "Epoch 7/50\n",
            "122/122 - 1s - 10ms/step - accuracy: 0.9992 - loss: 0.0021 - val_accuracy: 0.9892 - val_loss: 0.0566\n",
            "Epoch 8/50\n",
            "122/122 - 1s - 10ms/step - accuracy: 0.9997 - loss: 0.0013 - val_accuracy: 0.9892 - val_loss: 0.0588\n"
          ]
        }
      ]
    },
    {
      "cell_type": "code",
      "source": [
        "# Output the model summary\n",
        "model.summary()"
      ],
      "metadata": {
        "id": "JyKPfNf7G9mq",
        "colab": {
          "base_uri": "https://localhost:8080/",
          "height": 323
        },
        "outputId": "ea58e032-fb65-4cae-f33b-e07b81d4dbc0"
      },
      "execution_count": 31,
      "outputs": [
        {
          "output_type": "display_data",
          "data": {
            "text/plain": [
              "\u001b[1mModel: \"sequential_1\"\u001b[0m\n"
            ],
            "text/html": [
              "<pre style=\"white-space:pre;overflow-x:auto;line-height:normal;font-family:Menlo,'DejaVu Sans Mono',consolas,'Courier New',monospace\"><span style=\"font-weight: bold\">Model: \"sequential_1\"</span>\n",
              "</pre>\n"
            ]
          },
          "metadata": {}
        },
        {
          "output_type": "display_data",
          "data": {
            "text/plain": [
              "┏━━━━━━━━━━━━━━━━━━━━━━━━━━━━━━━━━━━━━━┳━━━━━━━━━━━━━━━━━━━━━━━━━━━━━┳━━━━━━━━━━━━━━━━━┓\n",
              "┃\u001b[1m \u001b[0m\u001b[1mLayer (type)                        \u001b[0m\u001b[1m \u001b[0m┃\u001b[1m \u001b[0m\u001b[1mOutput Shape               \u001b[0m\u001b[1m \u001b[0m┃\u001b[1m \u001b[0m\u001b[1m        Param #\u001b[0m\u001b[1m \u001b[0m┃\n",
              "┡━━━━━━━━━━━━━━━━━━━━━━━━━━━━━━━━━━━━━━╇━━━━━━━━━━━━━━━━━━━━━━━━━━━━━╇━━━━━━━━━━━━━━━━━┩\n",
              "│ embedding_1 (\u001b[38;5;33mEmbedding\u001b[0m)              │ (\u001b[38;5;45mNone\u001b[0m, \u001b[38;5;34m50\u001b[0m, \u001b[38;5;34m100\u001b[0m)             │         \u001b[38;5;34m898,800\u001b[0m │\n",
              "├──────────────────────────────────────┼─────────────────────────────┼─────────────────┤\n",
              "│ lstm_2 (\u001b[38;5;33mLSTM\u001b[0m)                        │ (\u001b[38;5;45mNone\u001b[0m, \u001b[38;5;34m50\u001b[0m, \u001b[38;5;34m50\u001b[0m)              │          \u001b[38;5;34m30,200\u001b[0m │\n",
              "├──────────────────────────────────────┼─────────────────────────────┼─────────────────┤\n",
              "│ dropout_1 (\u001b[38;5;33mDropout\u001b[0m)                  │ (\u001b[38;5;45mNone\u001b[0m, \u001b[38;5;34m50\u001b[0m, \u001b[38;5;34m50\u001b[0m)              │               \u001b[38;5;34m0\u001b[0m │\n",
              "├──────────────────────────────────────┼─────────────────────────────┼─────────────────┤\n",
              "│ lstm_3 (\u001b[38;5;33mLSTM\u001b[0m)                        │ (\u001b[38;5;45mNone\u001b[0m, \u001b[38;5;34m50\u001b[0m)                  │          \u001b[38;5;34m20,200\u001b[0m │\n",
              "├──────────────────────────────────────┼─────────────────────────────┼─────────────────┤\n",
              "│ dense_1 (\u001b[38;5;33mDense\u001b[0m)                      │ (\u001b[38;5;45mNone\u001b[0m, \u001b[38;5;34m2\u001b[0m)                   │             \u001b[38;5;34m102\u001b[0m │\n",
              "└──────────────────────────────────────┴─────────────────────────────┴─────────────────┘\n"
            ],
            "text/html": [
              "<pre style=\"white-space:pre;overflow-x:auto;line-height:normal;font-family:Menlo,'DejaVu Sans Mono',consolas,'Courier New',monospace\">┏━━━━━━━━━━━━━━━━━━━━━━━━━━━━━━━━━━━━━━┳━━━━━━━━━━━━━━━━━━━━━━━━━━━━━┳━━━━━━━━━━━━━━━━━┓\n",
              "┃<span style=\"font-weight: bold\"> Layer (type)                         </span>┃<span style=\"font-weight: bold\"> Output Shape                </span>┃<span style=\"font-weight: bold\">         Param # </span>┃\n",
              "┡━━━━━━━━━━━━━━━━━━━━━━━━━━━━━━━━━━━━━━╇━━━━━━━━━━━━━━━━━━━━━━━━━━━━━╇━━━━━━━━━━━━━━━━━┩\n",
              "│ embedding_1 (<span style=\"color: #0087ff; text-decoration-color: #0087ff\">Embedding</span>)              │ (<span style=\"color: #00d7ff; text-decoration-color: #00d7ff\">None</span>, <span style=\"color: #00af00; text-decoration-color: #00af00\">50</span>, <span style=\"color: #00af00; text-decoration-color: #00af00\">100</span>)             │         <span style=\"color: #00af00; text-decoration-color: #00af00\">898,800</span> │\n",
              "├──────────────────────────────────────┼─────────────────────────────┼─────────────────┤\n",
              "│ lstm_2 (<span style=\"color: #0087ff; text-decoration-color: #0087ff\">LSTM</span>)                        │ (<span style=\"color: #00d7ff; text-decoration-color: #00d7ff\">None</span>, <span style=\"color: #00af00; text-decoration-color: #00af00\">50</span>, <span style=\"color: #00af00; text-decoration-color: #00af00\">50</span>)              │          <span style=\"color: #00af00; text-decoration-color: #00af00\">30,200</span> │\n",
              "├──────────────────────────────────────┼─────────────────────────────┼─────────────────┤\n",
              "│ dropout_1 (<span style=\"color: #0087ff; text-decoration-color: #0087ff\">Dropout</span>)                  │ (<span style=\"color: #00d7ff; text-decoration-color: #00d7ff\">None</span>, <span style=\"color: #00af00; text-decoration-color: #00af00\">50</span>, <span style=\"color: #00af00; text-decoration-color: #00af00\">50</span>)              │               <span style=\"color: #00af00; text-decoration-color: #00af00\">0</span> │\n",
              "├──────────────────────────────────────┼─────────────────────────────┼─────────────────┤\n",
              "│ lstm_3 (<span style=\"color: #0087ff; text-decoration-color: #0087ff\">LSTM</span>)                        │ (<span style=\"color: #00d7ff; text-decoration-color: #00d7ff\">None</span>, <span style=\"color: #00af00; text-decoration-color: #00af00\">50</span>)                  │          <span style=\"color: #00af00; text-decoration-color: #00af00\">20,200</span> │\n",
              "├──────────────────────────────────────┼─────────────────────────────┼─────────────────┤\n",
              "│ dense_1 (<span style=\"color: #0087ff; text-decoration-color: #0087ff\">Dense</span>)                      │ (<span style=\"color: #00d7ff; text-decoration-color: #00d7ff\">None</span>, <span style=\"color: #00af00; text-decoration-color: #00af00\">2</span>)                   │             <span style=\"color: #00af00; text-decoration-color: #00af00\">102</span> │\n",
              "└──────────────────────────────────────┴─────────────────────────────┴─────────────────┘\n",
              "</pre>\n"
            ]
          },
          "metadata": {}
        },
        {
          "output_type": "display_data",
          "data": {
            "text/plain": [
              "\u001b[1m Total params: \u001b[0m\u001b[38;5;34m2,847,908\u001b[0m (10.86 MB)\n"
            ],
            "text/html": [
              "<pre style=\"white-space:pre;overflow-x:auto;line-height:normal;font-family:Menlo,'DejaVu Sans Mono',consolas,'Courier New',monospace\"><span style=\"font-weight: bold\"> Total params: </span><span style=\"color: #00af00; text-decoration-color: #00af00\">2,847,908</span> (10.86 MB)\n",
              "</pre>\n"
            ]
          },
          "metadata": {}
        },
        {
          "output_type": "display_data",
          "data": {
            "text/plain": [
              "\u001b[1m Trainable params: \u001b[0m\u001b[38;5;34m949,302\u001b[0m (3.62 MB)\n"
            ],
            "text/html": [
              "<pre style=\"white-space:pre;overflow-x:auto;line-height:normal;font-family:Menlo,'DejaVu Sans Mono',consolas,'Courier New',monospace\"><span style=\"font-weight: bold\"> Trainable params: </span><span style=\"color: #00af00; text-decoration-color: #00af00\">949,302</span> (3.62 MB)\n",
              "</pre>\n"
            ]
          },
          "metadata": {}
        },
        {
          "output_type": "display_data",
          "data": {
            "text/plain": [
              "\u001b[1m Non-trainable params: \u001b[0m\u001b[38;5;34m0\u001b[0m (0.00 B)\n"
            ],
            "text/html": [
              "<pre style=\"white-space:pre;overflow-x:auto;line-height:normal;font-family:Menlo,'DejaVu Sans Mono',consolas,'Courier New',monospace\"><span style=\"font-weight: bold\"> Non-trainable params: </span><span style=\"color: #00af00; text-decoration-color: #00af00\">0</span> (0.00 B)\n",
              "</pre>\n"
            ]
          },
          "metadata": {}
        },
        {
          "output_type": "display_data",
          "data": {
            "text/plain": [
              "\u001b[1m Optimizer params: \u001b[0m\u001b[38;5;34m1,898,606\u001b[0m (7.24 MB)\n"
            ],
            "text/html": [
              "<pre style=\"white-space:pre;overflow-x:auto;line-height:normal;font-family:Menlo,'DejaVu Sans Mono',consolas,'Courier New',monospace\"><span style=\"font-weight: bold\"> Optimizer params: </span><span style=\"color: #00af00; text-decoration-color: #00af00\">1,898,606</span> (7.24 MB)\n",
              "</pre>\n"
            ]
          },
          "metadata": {}
        }
      ]
    },
    {
      "cell_type": "markdown",
      "source": [
        "### Validate the Model"
      ],
      "metadata": {
        "id": "yU3nBLdq-E6M"
      }
    },
    {
      "cell_type": "code",
      "source": [
        "### Visualization of Accuracy and Loss\n",
        "import matplotlib.pyplot as plt\n",
        "\n",
        "# Plot training & validation accuracy values\n",
        "plt.plot(history.history['accuracy'])\n",
        "plt.plot(history.history['val_accuracy'])\n",
        "plt.title('Model Accuracy')\n",
        "plt.ylabel('Accuracy')\n",
        "plt.xlabel('Epoch')\n",
        "plt.legend(['Train', 'Validation'], loc='upper left')\n",
        "plt.show()\n",
        "\n",
        "# Plot training & validation loss values\n",
        "plt.plot(history.history['loss'])\n",
        "plt.plot(history.history['val_loss'])\n",
        "plt.title('Model Loss')\n",
        "plt.ylabel('Loss')\n",
        "plt.xlabel('Epoch')\n",
        "plt.legend(['Train', 'Validation'], loc='upper left')\n",
        "plt.show()"
      ],
      "metadata": {
        "colab": {
          "base_uri": "https://localhost:8080/",
          "height": 927
        },
        "id": "KIxkiMPAPMAp",
        "outputId": "9eab3f85-b4e0-4904-f9bb-ea5459f9ef44"
      },
      "execution_count": 32,
      "outputs": [
        {
          "output_type": "display_data",
          "data": {
            "text/plain": [
              "<Figure size 640x480 with 1 Axes>"
            ],
            "image/png": "[encoded data removed]"
          },
          "metadata": {}
        },
        {
          "output_type": "display_data",
          "data": {
            "text/plain": [
              "<Figure size 640x480 with 1 Axes>"
            ],
            "image/png": "[encoded data removed]"
          },
          "metadata": {}
        }
      ]
    },
    {
      "cell_type": "code",
      "source": [
        "from sklearn.metrics import confusion_matrix, classification_report\n",
        "import seaborn as sns\n",
        "import matplotlib.pyplot as plt\n",
        "\n",
        "# Predict probabilities for the test set\n",
        "yhat_probs = model.predict(X_test, verbose=0)\n",
        "\n",
        "# Convert predicted probabilities to class labels\n",
        "yhat_classes = np.argmax(yhat_probs, axis=1)\n",
        "\n",
        "# Convert one-hot encoded test labels to class labels\n",
        "Y_test_classes = np.argmax(Y_test, axis=1)"
      ],
      "metadata": {
        "id": "3w288GTduPY7"
      },
      "execution_count": 33,
      "outputs": []
    },
    {
      "cell_type": "code",
      "source": [
        "### Classification Report\n",
        "# Generate the classification report\n",
        "class_report = classification_report(Y_test_classes, yhat_classes, target_names=['Ham', 'Spam'])\n",
        "\n",
        "# Print the classification report\n",
        "print(\"Classification Report:\\n\")\n",
        "print(class_report)"
      ],
      "metadata": {
        "colab": {
          "base_uri": "https://localhost:8080/",
          "height": 0
        },
        "id": "Gv21AWdqdOKJ",
        "outputId": "ac91f030-f1f5-4bd2-efa2-30c1e9af9ae5"
      },
      "execution_count": 34,
      "outputs": [
        {
          "output_type": "stream",
          "name": "stdout",
          "text": [
            "Classification Report:\n",
            "\n",
            "              precision    recall  f1-score   support\n",
            "\n",
            "         Ham       0.99      1.00      1.00       724\n",
            "        Spam       1.00      0.96      0.98       112\n",
            "\n",
            "    accuracy                           0.99       836\n",
            "   macro avg       1.00      0.98      0.99       836\n",
            "weighted avg       0.99      0.99      0.99       836\n",
            "\n"
          ]
        }
      ]
    },
    {
      "cell_type": "code",
      "source": [
        "### Confusion Matrix\n",
        "# Calculate the confusion matrix\n",
        "conf_matrix = confusion_matrix(Y_test_classes, yhat_classes)\n",
        "\n",
        "# Plot the confusion matrix using Seaborn heatmap\n",
        "plt.figure(figsize=(8, 6))\n",
        "sns.heatmap(conf_matrix, annot=True, fmt=\"d\", cmap=\"Blues\", cbar=False,\n",
        "            xticklabels=['Ham', 'Spam'], yticklabels=['Ham', 'Spam'])\n",
        "plt.title('Confusion Matrix')\n",
        "plt.ylabel('Actual')\n",
        "plt.xlabel('Predicted')\n",
        "plt.show()"
      ],
      "metadata": {
        "colab": {
          "base_uri": "https://localhost:8080/",
          "height": 564
        },
        "id": "eD0bQJATdPh4",
        "outputId": "027fc7e3-a5fc-4298-b557-1f559210b67e"
      },
      "execution_count": 35,
      "outputs": [
        {
          "output_type": "display_data",
          "data": {
            "text/plain": [
              "<Figure size 800x600 with 1 Axes>"
            ],
            "image/png": "[encoded data removed]"
          },
          "metadata": {}
        }
      ]
    },
    {
      "cell_type": "code",
      "source": [
        "# Save the model\n",
        "model.save('MymodelwithkerasEmbedding.h5')"
      ],
      "metadata": {
        "colab": {
          "base_uri": "https://localhost:8080/",
          "height": 0
        },
        "id": "rJzVR7aXP589",
        "outputId": "0fcf0469-1652-4069-e06f-165fe493ebd3"
      },
      "execution_count": 36,
      "outputs": [
        {
          "output_type": "stream",
          "name": "stderr",
          "text": [
            "WARNING:absl:You are saving your model as an HDF5 file via `model.save()` or `keras.saving.save_model(model)`. This file format is considered legacy. We recommend using instead the native Keras format, e.g. `model.save('my_model.keras')` or `keras.saving.save_model(model, 'my_model.keras')`. \n"
          ]
        }
      ]
    },
    {
      "cell_type": "markdown",
      "source": [
        "## Inference"
      ],
      "metadata": {
        "id": "dMfhO9-4QPa_"
      }
    },
    {
      "cell_type": "markdown",
      "source": [
        "\n",
        "Test with new and different data set aside from the data to build the model."
      ],
      "metadata": {
        "id": "zmFABqRbQU5y"
      }
    },
    {
      "cell_type": "code",
      "source": [
        "message = ['Congratulations! You have WON a FREE iPhone! Claim it now by visiting www.prize.com. Limited time offer, act FAST!! 🚨']\n",
        "seq = tokenizer.texts_to_sequences(message)\n",
        "\n",
        "padded = pad_sequences(seq, maxlen=X.shape[1], dtype='int32', value=0)\n",
        "\n",
        "pred = model.predict(padded)\n",
        "\n",
        "labels = ['ham','spam']\n",
        "print(pred, labels[np.argmax(pred)])"
      ],
      "metadata": {
        "colab": {
          "base_uri": "https://localhost:8080/",
          "height": 0
        },
        "id": "Fmb6cld4P565",
        "outputId": "7ba1eda0-bb47-45d6-8572-805d9223d6f6"
      },
      "execution_count": 37,
      "outputs": [
        {
          "output_type": "stream",
          "name": "stdout",
          "text": [
            "\u001b[1m1/1\u001b[0m \u001b[32m━━━━━━━━━━━━━━━━━━━━\u001b[0m\u001b[37m\u001b[0m \u001b[1m0s\u001b[0m 45ms/step\n",
            "[[3.0577248e-05 9.9996936e-01]] spam\n"
          ]
        }
      ]
    },
    {
      "cell_type": "code",
      "source": [
        "message = ['Congratulations! You have been selected for the training pool of International Mathematical Olympiad. Click here to register yourslef: www.olympiadinternational.com. Late registrations will not be accepted ']\n",
        "seq = tokenizer.texts_to_sequences(message)\n",
        "\n",
        "padded = pad_sequences(seq, maxlen=X.shape[1], dtype='int32', value=0)\n",
        "\n",
        "pred = model.predict(padded)\n",
        "\n",
        "labels = ['ham','spam']\n",
        "print(pred, labels[np.argmax(pred)])"
      ],
      "metadata": {
        "colab": {
          "base_uri": "https://localhost:8080/",
          "height": 0
        },
        "id": "SdS07-iJP55C",
        "outputId": "d2553a68-80ae-43dd-ab50-811bc8f56095"
      },
      "execution_count": 39,
      "outputs": [
        {
          "output_type": "stream",
          "name": "stdout",
          "text": [
            "\u001b[1m1/1\u001b[0m \u001b[32m━━━━━━━━━━━━━━━━━━━━\u001b[0m\u001b[37m\u001b[0m \u001b[1m0s\u001b[0m 21ms/step\n",
            "[[0.5146226  0.48537734]] ham\n"
          ]
        }
      ]
    },
    {
      "cell_type": "markdown",
      "source": [
        "#References\n",
        "\n",
        "[1] Artificial Inteligence, Machine Learning and Deep Learning by Mercury Learning and Informarion (Book)\n",
        "\n",
        "[2] Source Information of NLP :https://monkeylearn.com/what-is-text-classification/\n",
        "\n",
        "[3] Parameter doc2vec and LSTM inspired by : https://dl.acm.org/doi/10.1145/3406601.3406624"
      ],
      "metadata": {
        "id": "GJjGx4B_QvFB"
      }
    }
  ]
}